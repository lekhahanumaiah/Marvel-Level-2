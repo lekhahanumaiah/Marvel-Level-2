{
 "cells": [
  {
   "cell_type": "code",
   "execution_count": 11,
   "id": "5af0fed6-c357-4f4c-a617-0cb83b446ff0",
   "metadata": {},
   "outputs": [
    {
     "name": "stderr",
     "output_type": "stream",
     "text": [
      "C:\\Users\\Asus\\AppData\\Local\\Temp\\ipykernel_6556\\262148808.py:12: FutureWarning: A value is trying to be set on a copy of a DataFrame or Series through chained assignment using an inplace method.\n",
      "The behavior will change in pandas 3.0. This inplace method will never work because the intermediate object on which we are setting values always behaves as a copy.\n",
      "\n",
      "For example, when doing 'df[col].method(value, inplace=True)', try using 'df.method({col: value}, inplace=True)' or df[col] = df[col].method(value) instead, to perform the operation inplace on the original object.\n",
      "\n",
      "\n",
      "  df['Age'].fillna(df['Age'].median(), inplace=True)  # Use df instead of data\n",
      "C:\\Users\\Asus\\AppData\\Local\\Temp\\ipykernel_6556\\262148808.py:13: FutureWarning: A value is trying to be set on a copy of a DataFrame or Series through chained assignment using an inplace method.\n",
      "The behavior will change in pandas 3.0. This inplace method will never work because the intermediate object on which we are setting values always behaves as a copy.\n",
      "\n",
      "For example, when doing 'df[col].method(value, inplace=True)', try using 'df.method({col: value}, inplace=True)' or df[col] = df[col].method(value) instead, to perform the operation inplace on the original object.\n",
      "\n",
      "\n",
      "  df['Embarked'].fillna('S', inplace=True)\n"
     ]
    },
    {
     "name": "stdout",
     "output_type": "stream",
     "text": [
      "Voting Classifier Accuracy: 0.82\n"
     ]
    }
   ],
   "source": [
    "import pandas as pd\n",
    "import numpy as np\n",
    "from sklearn.linear_model import LogisticRegression\n",
    "from sklearn.ensemble import RandomForestClassifier, GradientBoostingClassifier,StackingClassifier\n",
    "from scipy.stats import mode\n",
    "\n",
    "# Load the Titanic dataset (replace 'data' with 'df')\n",
    "url = \"https://raw.githubusercontent.com/datasciencedojo/datasets/master/titanic.csv\"\n",
    "df = pd.read_csv(url)\n",
    "\n",
    "# Preprocess the data\n",
    "df['Age'].fillna(df['Age'].median(), inplace=True)  # Use df instead of data\n",
    "df['Embarked'].fillna('S', inplace=True)\n",
    "df['Sex'] = df['Sex'].map({'male': 0, 'female': 1})\n",
    "df['Embarked'] = df['Embarked'].map({'C': 0, 'Q': 1, 'S': 2})\n",
    "\n",
    "# Select features and target\n",
    "features = ['Pclass', 'Sex', 'Age', 'SibSp', 'Parch', 'Fare', 'Embarked']\n",
    "X = df[features].values  # Use df instead of data\n",
    "y = df['Survived'].values\n",
    "\n",
    "# Train-test split\n",
    "np.random.seed(42)\n",
    "indices = np.random.permutation(len(X))\n",
    "train_size = int(0.8 * len(X))\n",
    "train_idx, test_idx = indices[:train_size], indices[train_size:]\n",
    "X_train, X_test = X[train_idx], X[test_idx]\n",
    "y_train, y_test = y[train_idx], y[test_idx]\n",
    "\n",
    "# Initialize models\n",
    "log_model = LogisticRegression(random_state=42, max_iter=200)\n",
    "rf_model = RandomForestClassifier(n_estimators=100, random_state=42)\n",
    "gb_model = GradientBoostingClassifier(n_estimators=100, random_state=42)\n",
    "\n",
    "# Train models\n",
    "log_model.fit(X_train, y_train)\n",
    "rf_model.fit(X_train, y_train)\n",
    "gb_model.fit(X_train, y_train)\n",
    "\n",
    "# Get predictions\n",
    "log_pred = log_model.predict(X_test)\n",
    "rf_pred = rf_model.predict(X_test)\n",
    "gb_pred = gb_model.predict(X_test)\n",
    "\n",
    "# Combine predictions using majority voting\n",
    "all_preds = np.array([log_pred, rf_pred, gb_pred])\n",
    "voting_pred, _ = mode(all_preds, axis=0)\n",
    "\n",
    "# Evaluate the Voting Classifier\n",
    "voting_acc = np.mean(voting_pred.flatten() == y_test)\n",
    "print(f\"Voting Classifier Accuracy: {voting_acc:.2f}\")\n"
   ]
  },
  {
   "cell_type": "code",
   "execution_count": 15,
   "id": "ce2882dd-98f7-48e2-a80c-d0d5ce3699ad",
   "metadata": {},
   "outputs": [
    {
     "name": "stderr",
     "output_type": "stream",
     "text": [
      "C:\\Users\\Asus\\AppData\\Local\\Temp\\ipykernel_6556\\3835242817.py:10: FutureWarning: A value is trying to be set on a copy of a DataFrame or Series through chained assignment using an inplace method.\n",
      "The behavior will change in pandas 3.0. This inplace method will never work because the intermediate object on which we are setting values always behaves as a copy.\n",
      "\n",
      "For example, when doing 'df[col].method(value, inplace=True)', try using 'df.method({col: value}, inplace=True)' or df[col] = df[col].method(value) instead, to perform the operation inplace on the original object.\n",
      "\n",
      "\n",
      "  df['Age'].fillna(df['Age'].median(), inplace=True)  # Use df instead of data\n",
      "C:\\Users\\Asus\\AppData\\Local\\Temp\\ipykernel_6556\\3835242817.py:11: FutureWarning: A value is trying to be set on a copy of a DataFrame or Series through chained assignment using an inplace method.\n",
      "The behavior will change in pandas 3.0. This inplace method will never work because the intermediate object on which we are setting values always behaves as a copy.\n",
      "\n",
      "For example, when doing 'df[col].method(value, inplace=True)', try using 'df.method({col: value}, inplace=True)' or df[col] = df[col].method(value) instead, to perform the operation inplace on the original object.\n",
      "\n",
      "\n",
      "  df['Embarked'].fillna('S', inplace=True)\n"
     ]
    }
   ],
   "source": [
    "import pandas as pd\n",
    "import numpy as np\n",
    "\n",
    "# Load the Titanic dataset \n",
    "url = \"https://raw.githubusercontent.com/datasciencedojo/datasets/master/titanic.csv\"\n",
    "df = pd.read_csv(url)\n",
    "\n",
    "\n",
    "# Preprocess the data\n",
    "df['Age'].fillna(df['Age'].median(), inplace=True)  # Use df instead of data\n",
    "df['Embarked'].fillna('S', inplace=True)\n",
    "df['Sex'] = df['Sex'].map({'male': 0, 'female': 1})\n",
    "df['Embarked'] = df['Embarked'].map({'C': 0, 'Q': 1, 'S': 2})\n",
    "\n",
    "# Select features and target\n",
    "features = ['Pclass', 'Sex', 'Age', 'SibSp', 'Parch', 'Fare', 'Embarked']\n",
    "X = df[features].values  # Use df instead of data\n",
    "y = df['Survived'].values\n",
    "\n",
    "# Train-test split\n",
    "np.random.seed(42)\n",
    "indices = np.random.permutation(len(X))\n",
    "train_size = int(0.8 * len(X))\n",
    "train_idx, test_idx = indices[:train_size], indices[train_size:]\n",
    "X_train, X_test = X[train_idx], X[test_idx]\n",
    "y_train, y_test = y[train_idx], y[test_idx]\n"
   ]
  },
  {
   "cell_type": "code",
   "execution_count": 17,
   "id": "da4e0e29-6f0b-42ce-8307-fa4e90899917",
   "metadata": {},
   "outputs": [
    {
     "name": "stdout",
     "output_type": "stream",
     "text": [
      "Logistic Regression Accuracy: 0.78\n"
     ]
    }
   ],
   "source": [
    "from sklearn.linear_model import LogisticRegression\n",
    "\n",
    "log_model = LogisticRegression(random_state=42, max_iter=200)\n",
    "log_model.fit(X_train, y_train)\n",
    "log_pred = log_model.predict(X_test)\n",
    "log_acc = np.mean(log_pred == y_test)\n",
    "print(f\"Logistic Regression Accuracy: {log_acc:.2f}\")\n"
   ]
  },
  {
   "cell_type": "code",
   "execution_count": 19,
   "id": "5c7a644a-a514-4d7e-8cf4-52f06d6ecd9c",
   "metadata": {},
   "outputs": [
    {
     "name": "stdout",
     "output_type": "stream",
     "text": [
      "Random Forest Accuracy: 0.83\n"
     ]
    }
   ],
   "source": [
    "from sklearn.ensemble import RandomForestClassifier\n",
    "\n",
    "rf_model = RandomForestClassifier(n_estimators=100, random_state=42)\n",
    "rf_model.fit(X_train, y_train)\n",
    "rf_pred = rf_model.predict(X_test)\n",
    "rf_acc = np.mean(rf_pred == y_test)\n",
    "print(f\"Random Forest Accuracy: {rf_acc:.2f}\")\n"
   ]
  },
  {
   "cell_type": "code",
   "execution_count": 21,
   "id": "a09f49c6-7053-476d-801d-fa4965eba51d",
   "metadata": {},
   "outputs": [
    {
     "name": "stdout",
     "output_type": "stream",
     "text": [
      "Gradient Boosting Accuracy: 0.82\n"
     ]
    }
   ],
   "source": [
    "from sklearn.ensemble import GradientBoostingClassifier\n",
    "\n",
    "gb_model = GradientBoostingClassifier(n_estimators=100, random_state=42)\n",
    "gb_model.fit(X_train, y_train)\n",
    "gb_pred = gb_model.predict(X_test)\n",
    "gb_acc = np.mean(gb_pred == y_test)\n",
    "print(f\"Gradient Boosting Accuracy: {gb_acc:.2f}\")\n"
   ]
  },
  {
   "cell_type": "code",
   "execution_count": 35,
   "id": "51000aef-e305-4fc6-bd0e-94ae2bea9236",
   "metadata": {},
   "outputs": [
    {
     "name": "stdout",
     "output_type": "stream",
     "text": [
      "Voting Classifier Accuracy: 0.82\n",
      "Logistic Regression Accuracy: 0.78\n",
      "Random Forest Accuracy: 0.83\n",
      "Gradient Boosting Accuracy: 0.82\n"
     ]
    }
   ],
   "source": [
    "from scipy.stats import mode\n",
    "\n",
    "# Combine predictions\n",
    "all_preds = np.array([log_pred, rf_pred, gb_pred])\n",
    "voting_pred, _ = mode(all_preds, axis=0)\n",
    "\n",
    "# Evaluate Voting Classifier\n",
    "voting_acc = np.mean(voting_pred.flatten() == y_test)\n",
    "print(f\"Voting Classifier Accuracy: {voting_acc:.2f}\")\n",
    "\n",
    "print(f\"Logistic Regression Accuracy: {log_acc:.2f}\")\n",
    "print(f\"Random Forest Accuracy: {rf_acc:.2f}\")\n",
    "print(f\"Gradient Boosting Accuracy: {gb_acc:.2f}\")\n"
   ]
  },
  {
   "cell_type": "code",
   "execution_count": 37,
   "id": "2927f732-29a3-4fd2-99a4-f4a0e321af0b",
   "metadata": {},
   "outputs": [
    {
     "name": "stdout",
     "output_type": "stream",
     "text": [
      "Stacking Ensemble Accuracy: 0.82\n",
      "Logistic Regression Accuracy: 0.78\n",
      "Random Forest Accuracy: 0.83\n",
      "Gradient Boosting Accuracy: 0.82\n"
     ]
    }
   ],
   "source": [
    "from sklearn.ensemble import StackingClassifier\n",
    "\n",
    "stacking_clf = StackingClassifier(\n",
    "    estimators=[\n",
    "        ('log', log_model),\n",
    "        ('rf', rf_model),\n",
    "        ('gb', gb_model)\n",
    "        \n",
    "    ],\n",
    "    final_estimator=LogisticRegression(random_state=42)\n",
    ")\n",
    "\n",
    "# Train the stacking model\n",
    "stacking_clf.fit(X_train, y_train)\n",
    "\n",
    "# Evaluate the ensemble model\n",
    "stacking_acc = stacking_clf.score(X_test, y_test)\n",
    "print(f\"Stacking Ensemble Accuracy: {stacking_acc:.2f}\")\n",
    "\n",
    "# Optionally, check individual model accuracies\n",
    "log_model.fit(X_train, y_train)\n",
    "rf_model.fit(X_train, y_train)\n",
    "gb_model.fit(X_train, y_train)\n",
    "\n",
    "log_acc = log_model.score(X_test, y_test)\n",
    "rf_acc = rf_model.score(X_test, y_test)\n",
    "gb_acc = gb_model.score(X_test, y_test)\n",
    "\n",
    "print(f\"Logistic Regression Accuracy: {log_acc:.2f}\")\n",
    "print(f\"Random Forest Accuracy: {rf_acc:.2f}\")\n",
    "print(f\"Gradient Boosting Accuracy: {gb_acc:.2f}\")\n"
   ]
  },
  {
   "cell_type": "code",
   "execution_count": null,
   "id": "0f81d1b0-b9cd-4b79-a908-4a18c657b852",
   "metadata": {},
   "outputs": [],
   "source": []
  }
 ],
 "metadata": {
  "kernelspec": {
   "display_name": "Python 3 (ipykernel)",
   "language": "python",
   "name": "python3"
  },
  "language_info": {
   "codemirror_mode": {
    "name": "ipython",
    "version": 3
   },
   "file_extension": ".py",
   "mimetype": "text/x-python",
   "name": "python",
   "nbconvert_exporter": "python",
   "pygments_lexer": "ipython3",
   "version": "3.12.4"
  }
 },
 "nbformat": 4,
 "nbformat_minor": 5
}
